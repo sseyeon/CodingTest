{
 "cells": [
  {
   "cell_type": "markdown",
   "metadata": {},
   "source": [
    "# 스택"
   ]
  },
  {
   "cell_type": "code",
   "execution_count": null,
   "metadata": {},
   "outputs": [],
   "source": [
    "def push(data, n):\n",
    "    data.append(n)\n",
    "\n",
    "def pop(data):\n",
    "    if len(data)>0:\n",
    "        return data.pop()\n",
    "    return False\n",
    "\n",
    "\n",
    "\n",
    "stack = []\n",
    "print('스택 : ', stack)\n",
    "for i in range(0,4):\n",
    "    push(stack, i)\n",
    "\n",
    "print('스택 : ', stack)\n",
    "\n",
    "pop(stack)\n",
    "print('스택 : ', stack)\n",
    "pop(stack)\n",
    "print('스택 : ', stack)\n",
    "pop(stack)\n",
    "print('스택 : ', stack)\n",
    "\n",
    "pop(stack)\n",
    "print('스택 : ', stack)\n",
    "\n",
    "pop(stack)\n",
    "print('스택 : ', stack)"
   ]
  },
  {
   "cell_type": "markdown",
   "metadata": {},
   "source": [
    "# 큐"
   ]
  },
  {
   "cell_type": "code",
   "execution_count": null,
   "metadata": {},
   "outputs": [],
   "source": [
    "def enqueue(data, n):\n",
    "    data.append(n)\n",
    "\n",
    "def dequeue(data):\n",
    "    if len(data)>0:\n",
    "        data.pop(0)\n",
    "    return False\n",
    "\n",
    "queue = []\n",
    "print('큐: ', queue)\n",
    "\n",
    "for i in range(0,5):\n",
    "    enqueue(queue, i)\n",
    "    \n",
    "print('큐: ', queue)\n",
    "\n",
    "dequeue(queue)\n",
    "print('큐: ', queue)\n",
    "\n",
    "dequeue(queue)\n",
    "print('큐: ', queue)\n"
   ]
  },
  {
   "cell_type": "markdown",
   "metadata": {},
   "source": [
    "# 덱"
   ]
  },
  {
   "cell_type": "code",
   "execution_count": null,
   "metadata": {},
   "outputs": [],
   "source": [
    "from collections import deque\n",
    "\n",
    "deq = deque()\n",
    "\n",
    "deq.append(1)\n",
    "deq.appendleft(2)\n",
    "deq.appendleft(5)\n",
    "print(deq)\n",
    "deq.popleft()\n",
    "deq"
   ]
  },
  {
   "cell_type": "code",
   "execution_count": 1,
   "metadata": {},
   "outputs": [
    {
     "ename": "KeyboardInterrupt",
     "evalue": "",
     "output_type": "error",
     "traceback": [
      "\u001b[1;31m---------------------------------------------------------------------------\u001b[0m",
      "\u001b[1;31mKeyboardInterrupt\u001b[0m                         Traceback (most recent call last)",
      "\u001b[1;32m<ipython-input-1-14f0b31489e9>\u001b[0m in \u001b[0;36m<module>\u001b[1;34m\u001b[0m\n\u001b[0;32m      5\u001b[0m         \u001b[0marr\u001b[0m\u001b[1;33m.\u001b[0m\u001b[0mpop\u001b[0m\u001b[1;33m(\u001b[0m\u001b[1;33m)\u001b[0m\u001b[1;33m\u001b[0m\u001b[1;33m\u001b[0m\u001b[0m\n\u001b[0;32m      6\u001b[0m     \u001b[1;32melse\u001b[0m\u001b[1;33m:\u001b[0m\u001b[1;33m\u001b[0m\u001b[1;33m\u001b[0m\u001b[0m\n\u001b[1;32m----> 7\u001b[1;33m         \u001b[0marr\u001b[0m\u001b[1;33m.\u001b[0m\u001b[0mappend\u001b[0m\u001b[1;33m(\u001b[0m\u001b[0mi\u001b[0m\u001b[1;33m)\u001b[0m\u001b[1;33m\u001b[0m\u001b[1;33m\u001b[0m\u001b[0m\n\u001b[0m\u001b[0;32m      8\u001b[0m \u001b[0msum\u001b[0m\u001b[1;33m(\u001b[0m\u001b[0marr\u001b[0m\u001b[1;33m)\u001b[0m\u001b[1;33m\u001b[0m\u001b[1;33m\u001b[0m\u001b[0m\n",
      "\u001b[1;31mKeyboardInterrupt\u001b[0m: "
     ]
    }
   ],
   "source": [
    "arr = [4,3,0,4,0]\n",
    "\n",
    "for i in arr:\n",
    "    if i == 0:\n",
    "        arr.pop()\n",
    "    else:\n",
    "        arr.append(i)\n",
    "sum(arr)"
   ]
  },
  {
   "cell_type": "code",
   "execution_count": null,
   "metadata": {},
   "outputs": [],
   "source": []
  }
 ],
 "metadata": {
  "kernelspec": {
   "display_name": "Python 3",
   "language": "python",
   "name": "python3"
  },
  "language_info": {
   "codemirror_mode": {
    "name": "ipython",
    "version": 3
   },
   "file_extension": ".py",
   "mimetype": "text/x-python",
   "name": "python",
   "nbconvert_exporter": "python",
   "pygments_lexer": "ipython3",
   "version": "3.7.6"
  }
 },
 "nbformat": 4,
 "nbformat_minor": 4
}
