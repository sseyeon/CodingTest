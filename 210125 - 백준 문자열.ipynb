{
 "cells": [
  {
   "cell_type": "code",
   "execution_count": null,
   "metadata": {},
   "outputs": [],
   "source": [
    "def solution(string):\n",
    "    try:\n",
    "        string = string.split(' ')\n",
    "        print(string)\n",
    "        if string[0] == '' or string[-1]=='':\n",
    "            string.remove('')\n",
    "        print(len(string))\n",
    "    except:\n",
    "        print(1)\n",
    "solution(\"The Curious Case of Benjamin Button \")\n",
    "solution(\" Mazatneunde Wae Teullyeoyo\")"
   ]
  },
  {
   "cell_type": "code",
   "execution_count": null,
   "metadata": {},
   "outputs": [],
   "source": [
    "string = input()\n",
    "string = string.split(' ')\n",
    "if string[0] == '' or string[-1]=='':\n",
    "    string = list(set(string))\n",
    "    string.remove('')\n",
    "print(len(string))"
   ]
  },
  {
   "cell_type": "code",
   "execution_count": null,
   "metadata": {},
   "outputs": [],
   "source": [
    "string = input()\n",
    "string = string.split(' ')\n",
    "while (True):\n",
    "    if '' not in string:\n",
    "        break\n",
    "    string.remove('')\n",
    "print(len(string))"
   ]
  },
  {
   "cell_type": "code",
   "execution_count": null,
   "metadata": {},
   "outputs": [],
   "source": [
    "b = ['','The', 'Curious', 'Case', 'of', 'Benjamin', 'Button', '']\n",
    "b.remove('')"
   ]
  },
  {
   "cell_type": "code",
   "execution_count": null,
   "metadata": {},
   "outputs": [],
   "source": [
    "b"
   ]
  },
  {
   "cell_type": "code",
   "execution_count": null,
   "metadata": {},
   "outputs": [],
   "source": [
    "a = [1, 1, 2, 3, 3, 4]\n",
    "set(a)"
   ]
  },
  {
   "cell_type": "code",
   "execution_count": null,
   "metadata": {},
   "outputs": [],
   "source": [
    "a = [1, 1, 2, 3, 3, 4]\n",
    "list(set(a))"
   ]
  },
  {
   "cell_type": "markdown",
   "metadata": {},
   "source": [
    "# 스택"
   ]
  },
  {
   "cell_type": "code",
   "execution_count": 9,
   "metadata": {
    "scrolled": true
   },
   "outputs": [
    {
     "name": "stdout",
     "output_type": "stream",
     "text": [
      "1\n",
      ")(\n",
      "YES\n"
     ]
    }
   ],
   "source": [
    "repeat = int(input())\n",
    "while repeat > 0:\n",
    "    string = input()\n",
    "    stack = []\n",
    "    \n",
    "    for i in string:\n",
    "        if len(stack) >= 1:\n",
    "            if i != stack[-1]:\n",
    "                stack.pop()\n",
    "                continue\n",
    "        stack.append(i)\n",
    "    \n",
    "    if (len(stack) == 0):\n",
    "        print('YES')\n",
    "    else:\n",
    "        print('NO')\n",
    "    repeat -=1"
   ]
  },
  {
   "cell_type": "code",
   "execution_count": 11,
   "metadata": {},
   "outputs": [
    {
     "name": "stdout",
     "output_type": "stream",
     "text": [
      "4\n",
      "(())\n",
      "YES\n",
      "(())()\n",
      "YES\n",
      "(()\n",
      "NO\n",
      "(()(\n",
      "NO\n"
     ]
    }
   ],
   "source": [
    "repeat = int(input())\n",
    "while repeat > 0:\n",
    "    string = input()\n",
    "    stack = []\n",
    "    \n",
    "    for i in string:\n",
    "        if len(stack) >= 1:\n",
    "            if stack[-1]=='(' and i ==')':\n",
    "                stack.pop()\n",
    "                continue\n",
    "        stack.append(i)\n",
    "    \n",
    "    if (len(stack) == 0):\n",
    "        print('YES')\n",
    "    else:\n",
    "        print('NO')\n",
    "    repeat -=1"
   ]
  },
  {
   "cell_type": "code",
   "execution_count": null,
   "metadata": {},
   "outputs": [],
   "source": []
  }
 ],
 "metadata": {
  "kernelspec": {
   "display_name": "Python 3",
   "language": "python",
   "name": "python3"
  },
  "language_info": {
   "codemirror_mode": {
    "name": "ipython",
    "version": 3
   },
   "file_extension": ".py",
   "mimetype": "text/x-python",
   "name": "python",
   "nbconvert_exporter": "python",
   "pygments_lexer": "ipython3",
   "version": "3.7.6"
  }
 },
 "nbformat": 4,
 "nbformat_minor": 4
}
