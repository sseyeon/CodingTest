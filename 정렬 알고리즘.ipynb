{
 "cells": [
  {
   "cell_type": "markdown",
   "metadata": {},
   "source": [
    "## 삽입정렬\n",
    "- 값의 양이 길어지면 효율 극악\n",
    "- 구현이 간단\n",
    "- 최대 O(n^2)의 시간 복잡도 -> for문 두개"
   ]
  },
  {
   "cell_type": "code",
   "execution_count": 14,
   "metadata": {},
   "outputs": [
    {
     "name": "stdout",
     "output_type": "stream",
     "text": [
      "[8, 10, 2, 40, 3, 5, 7, 4]\n"
     ]
    }
   ],
   "source": [
    "a = [8,10,2,40,3,5,7,4]\n",
    "\n",
    "for i in range(0, len(a)-1):\n",
    "    for j in range(i, len(a)):\n",
    "        if a[i] > a[j]:\n",
    "            tmp = a[i]\n",
    "            a[i] = a[j]\n",
    "            a[j] = tmp\n",
    "        else: break\n",
    "print(a)"
   ]
  },
  {
   "cell_type": "code",
   "execution_count": null,
   "metadata": {},
   "outputs": [],
   "source": []
  },
  {
   "cell_type": "code",
   "execution_count": null,
   "metadata": {},
   "outputs": [],
   "source": []
  }
 ],
 "metadata": {
  "kernelspec": {
   "display_name": "Python 3",
   "language": "python",
   "name": "python3"
  },
  "language_info": {
   "codemirror_mode": {
    "name": "ipython",
    "version": 3
   },
   "file_extension": ".py",
   "mimetype": "text/x-python",
   "name": "python",
   "nbconvert_exporter": "python",
   "pygments_lexer": "ipython3",
   "version": "3.7.6"
  }
 },
 "nbformat": 4,
 "nbformat_minor": 4
}
