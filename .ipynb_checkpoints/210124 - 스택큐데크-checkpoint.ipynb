{
 "cells": [
  {
   "cell_type": "markdown",
   "metadata": {},
   "source": [
    "# 스택"
   ]
  },
  {
   "cell_type": "code",
   "execution_count": 5,
   "metadata": {},
   "outputs": [
    {
     "name": "stdout",
     "output_type": "stream",
     "text": [
      "스택 :  []\n",
      "스택 :  [0, 1, 2, 3]\n",
      "스택 :  [0, 1, 2]\n",
      "스택 :  [0, 1]\n",
      "스택 :  [0]\n",
      "스택 :  []\n",
      "스택 :  []\n"
     ]
    }
   ],
   "source": [
    "def push(data, n):\n",
    "    data.append(n)\n",
    "\n",
    "def pop(data):\n",
    "    if len(data)>0:\n",
    "        return data.pop()\n",
    "    return False\n",
    "\n",
    "\n",
    "\n",
    "stack = []\n",
    "print('스택 : ', stack)\n",
    "for i in range(0,4):\n",
    "    push(stack, i)\n",
    "\n",
    "print('스택 : ', stack)\n",
    "\n",
    "pop(stack)\n",
    "print('스택 : ', stack)\n",
    "pop(stack)\n",
    "print('스택 : ', stack)\n",
    "pop(stack)\n",
    "print('스택 : ', stack)\n",
    "\n",
    "pop(stack)\n",
    "print('스택 : ', stack)\n",
    "\n",
    "pop(stack)\n",
    "print('스택 : ', stack)"
   ]
  },
  {
   "cell_type": "markdown",
   "metadata": {},
   "source": [
    "# 큐"
   ]
  },
  {
   "cell_type": "code",
   "execution_count": 6,
   "metadata": {},
   "outputs": [
    {
     "name": "stdout",
     "output_type": "stream",
     "text": [
      "큐:  []\n",
      "큐:  [0, 1, 2, 3, 4]\n",
      "큐:  [1, 2, 3, 4]\n",
      "큐:  [2, 3, 4]\n"
     ]
    }
   ],
   "source": [
    "def enqueue(data, n):\n",
    "    data.append(n)\n",
    "\n",
    "def dequeue(data):\n",
    "    if len(data)>0:\n",
    "        data.pop(0)\n",
    "    return False\n",
    "\n",
    "queue = []\n",
    "print('큐: ', queue)\n",
    "\n",
    "for i in range(0,5):\n",
    "    enqueue(queue, i)\n",
    "    \n",
    "print('큐: ', queue)\n",
    "\n",
    "dequeue(queue)\n",
    "print('큐: ', queue)\n",
    "\n",
    "dequeue(queue)\n",
    "print('큐: ', queue)\n"
   ]
  },
  {
   "cell_type": "markdown",
   "metadata": {},
   "source": [
    "# 덱"
   ]
  },
  {
   "cell_type": "code",
   "execution_count": 15,
   "metadata": {},
   "outputs": [
    {
     "name": "stdout",
     "output_type": "stream",
     "text": [
      "deque([5, 2, 1])\n"
     ]
    },
    {
     "data": {
      "text/plain": [
       "deque([2, 1])"
      ]
     },
     "execution_count": 15,
     "metadata": {},
     "output_type": "execute_result"
    }
   ],
   "source": [
    "from collections import deque\n",
    "\n",
    "deq = deque()\n",
    "\n",
    "deq.append(1)\n",
    "deq.appendleft(2)\n",
    "deq.appendleft(5)\n",
    "print(deq)\n",
    "deq.popleft()\n",
    "deq"
   ]
  },
  {
   "cell_type": "code",
   "execution_count": null,
   "metadata": {},
   "outputs": [
    {
     "name": "stdout",
     "output_type": "stream",
     "text": [
      "10\n",
      "1\n",
      "2\n",
      "911\n",
      "911\n"
     ]
    }
   ],
   "source": [
    "arr = []\n",
    "\n",
    "while (True):\n",
    "    n = input()\n",
    "    if n == 911:\n",
    "        break\n",
    "    if n == 0:\n",
    "        arr.pop()\n",
    "    else:\n",
    "        arr.append(n)\n",
    "sum(arr)"
   ]
  },
  {
   "cell_type": "code",
   "execution_count": null,
   "metadata": {},
   "outputs": [],
   "source": []
  }
 ],
 "metadata": {
  "kernelspec": {
   "display_name": "Python 3",
   "language": "python",
   "name": "python3"
  },
  "language_info": {
   "codemirror_mode": {
    "name": "ipython",
    "version": 3
   },
   "file_extension": ".py",
   "mimetype": "text/x-python",
   "name": "python",
   "nbconvert_exporter": "python",
   "pygments_lexer": "ipython3",
   "version": "3.7.6"
  }
 },
 "nbformat": 4,
 "nbformat_minor": 4
}
