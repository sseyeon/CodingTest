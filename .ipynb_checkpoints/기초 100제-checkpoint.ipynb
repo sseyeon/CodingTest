{
 "cells": [
  {
   "cell_type": "code",
   "execution_count": 12,
   "metadata": {},
   "outputs": [
    {
     "name": "stdout",
     "output_type": "stream",
     "text": [
      "┌┬┐\n",
      "├┼┤\n",
      "└┴┘\n"
     ]
    },
    {
     "data": {
      "text/plain": [
       "9484"
      ]
     },
     "execution_count": 12,
     "metadata": {},
     "output_type": "execute_result"
    }
   ],
   "source": [
    "print('┌┬┐')\n",
    "print('├┼┤')\n",
    "print('└┴┘')\n",
    "ord('┌')"
   ]
  },
  {
   "cell_type": "code",
   "execution_count": 16,
   "metadata": {},
   "outputs": [
    {
     "name": "stdout",
     "output_type": "stream",
     "text": [
      "┌┬┐\n",
      "├┼┤\n",
      "└┴┘\n"
     ]
    }
   ],
   "source": [
    "print('\\u250C\\u252C\\u2510')\n",
    "print('\\u251C\\u253C\\u2524')\n",
    "print('\\u2514\\u2534\\u2518')"
   ]
  },
  {
   "cell_type": "code",
   "execution_count": 24,
   "metadata": {},
   "outputs": [
    {
     "name": "stdout",
     "output_type": "stream",
     "text": [
      "5\n",
      "5\n"
     ]
    }
   ],
   "source": [
    "n = input('')\n",
    "n = int(n)\n",
    "print(n)"
   ]
  },
  {
   "cell_type": "code",
   "execution_count": 25,
   "metadata": {},
   "outputs": [
    {
     "name": "stdout",
     "output_type": "stream",
     "text": [
      "str\n",
      "str\n"
     ]
    }
   ],
   "source": [
    "x = input('')\n",
    "print(x)"
   ]
  },
  {
   "cell_type": "code",
   "execution_count": 31,
   "metadata": {},
   "outputs": [
    {
     "name": "stdout",
     "output_type": "stream",
     "text": [
      "1.54\n",
      "1.540000\n"
     ]
    }
   ],
   "source": [
    "a = float(input(''))\n",
    "print(\"%f\"%a)"
   ]
  },
  {
   "cell_type": "code",
   "execution_count": 37,
   "metadata": {},
   "outputs": [
    {
     "name": "stdout",
     "output_type": "stream",
     "text": [
      "5 7\n",
      "5 7\n"
     ]
    }
   ],
   "source": [
    "a, b = input(\"\").split()\n",
    "a = int(a)\n",
    "b = int(b)\n",
    "print(a, b)"
   ]
  },
  {
   "cell_type": "code",
   "execution_count": 38,
   "metadata": {},
   "outputs": [
    {
     "name": "stdout",
     "output_type": "stream",
     "text": [
      "d w\n",
      "w d\n"
     ]
    }
   ],
   "source": [
    "a,b = input('').split()\n",
    "print(b, a)"
   ]
  },
  {
   "cell_type": "code",
   "execution_count": 40,
   "metadata": {},
   "outputs": [
    {
     "name": "stdout",
     "output_type": "stream",
     "text": [
      "5.1115\n",
      "5.11\n"
     ]
    }
   ],
   "source": [
    "a = float(input(''))\n",
    "print(\"%.2f\"%a)"
   ]
  },
  {
   "cell_type": "code",
   "execution_count": 41,
   "metadata": {},
   "outputs": [
    {
     "name": "stdout",
     "output_type": "stream",
     "text": [
      "5\n",
      "5 5 5\n"
     ]
    }
   ],
   "source": [
    "a = int(input(''))\n",
    "print(a, a, a)"
   ]
  },
  {
   "cell_type": "code",
   "execution_count": 44,
   "metadata": {},
   "outputs": [
    {
     "name": "stdout",
     "output_type": "stream",
     "text": [
      "5:50\n",
      "5:50\n"
     ]
    }
   ],
   "source": [
    "time = input('').split(':')\n",
    "h = time[0]\n",
    "m = time[1]\n",
    "print(h+\":\"+m)"
   ]
  },
  {
   "cell_type": "code",
   "execution_count": 50,
   "metadata": {},
   "outputs": [
    {
     "name": "stdout",
     "output_type": "stream",
     "text": [
      "99.1.1\n",
      "0099.01.01\n"
     ]
    }
   ],
   "source": [
    "date = input('').split('.')\n",
    "y=int(date[0])\n",
    "m=int(date[1])\n",
    "d=int(date[2])\n",
    "print(\"%.4d.%.2d.%.2d\"%(y,m,d))"
   ]
  },
  {
   "cell_type": "code",
   "execution_count": 51,
   "metadata": {},
   "outputs": [
    {
     "name": "stdout",
     "output_type": "stream",
     "text": [
      "980930-2185714\n",
      "9809302185714\n"
     ]
    }
   ],
   "source": [
    "x = input('')\n",
    "x = x.replace('-','')\n",
    "print(x)"
   ]
  },
  {
   "cell_type": "code",
   "execution_count": 52,
   "metadata": {},
   "outputs": [
    {
     "name": "stdout",
     "output_type": "stream",
     "text": [
      "informatics\n",
      "informatics\n"
     ]
    }
   ],
   "source": [
    "data = input('')\n",
    "print(data)"
   ]
  },
  {
   "cell_type": "code",
   "execution_count": 53,
   "metadata": {},
   "outputs": [
    {
     "name": "stdout",
     "output_type": "stream",
     "text": [
      "1.414213\n",
      "1\n",
      "414213\n"
     ]
    }
   ],
   "source": [
    "data = input('').split('.')\n",
    "print(data[0])\n",
    "print(data[1])"
   ]
  },
  {
   "cell_type": "code",
   "execution_count": 56,
   "metadata": {},
   "outputs": [
    {
     "name": "stdout",
     "output_type": "stream",
     "text": [
      "dre\n",
      "'d'\n",
      "'r'\n",
      "'e'\n"
     ]
    }
   ],
   "source": [
    "data = input('')\n",
    "for i in range(0,len(data)):\n",
    "    print(\"'%c'\"%data[i])\n",
    "    "
   ]
  },
  {
   "cell_type": "code",
   "execution_count": 63,
   "metadata": {},
   "outputs": [
    {
     "name": "stdout",
     "output_type": "stream",
     "text": [
      "57894\n",
      "[50000]\n",
      "[7000]\n",
      "[800]\n",
      "[90]\n",
      "[4]\n"
     ]
    }
   ],
   "source": [
    "data = input('')\n",
    "tmp = 10000\n",
    "\n",
    "for i in range(0, len(data)):\n",
    "    a = int(data[i])\n",
    "    print('[%d]'%(a*tmp))\n",
    "    tmp /= 10"
   ]
  },
  {
   "cell_type": "code",
   "execution_count": 2,
   "metadata": {},
   "outputs": [
    {
     "name": "stdout",
     "output_type": "stream",
     "text": [
      "6:00:00\n",
      "0\n"
     ]
    }
   ],
   "source": [
    "time = input('').split(':')\n",
    "print(int(time[1]))"
   ]
  },
  {
   "cell_type": "code",
   "execution_count": 6,
   "metadata": {},
   "outputs": [
    {
     "name": "stdout",
     "output_type": "stream",
     "text": [
      "2014.7.5\n",
      "05-07-2014\n"
     ]
    }
   ],
   "source": [
    "date = input('').split('.')\n",
    "y = int(date[0])\n",
    "m = int(date[1])\n",
    "d = int(date[2])\n",
    "print(\"%.2d-%.2d-%.4d\"%(d, m, y))"
   ]
  },
  {
   "cell_type": "code",
   "execution_count": 8,
   "metadata": {},
   "outputs": [
    {
     "name": "stdout",
     "output_type": "stream",
     "text": [
      "2147483649\n",
      "2147483649\n"
     ]
    }
   ],
   "source": [
    "n = int(input(''))\n",
    "print(n)"
   ]
  },
  {
   "cell_type": "code",
   "execution_count": 13,
   "metadata": {},
   "outputs": [
    {
     "name": "stdout",
     "output_type": "stream",
     "text": [
      "123456.123123\n",
      "123456.123122999998\n"
     ]
    }
   ],
   "source": [
    "n = float(input(''))\n",
    "print(\"%.11f\"%n)"
   ]
  },
  {
   "cell_type": "code",
   "execution_count": 14,
   "metadata": {},
   "outputs": [
    {
     "name": "stdout",
     "output_type": "stream",
     "text": [
      "10\n",
      "12\n"
     ]
    }
   ],
   "source": [
    "n = int(input(''))\n",
    "print(\"%o\"%n)"
   ]
  },
  {
   "cell_type": "code",
   "execution_count": 15,
   "metadata": {},
   "outputs": [
    {
     "name": "stdout",
     "output_type": "stream",
     "text": [
      "225\n",
      "e1\n"
     ]
    }
   ],
   "source": [
    "n = int(input(''))\n",
    "print(\"%x\"%n)"
   ]
  },
  {
   "cell_type": "code",
   "execution_count": 23,
   "metadata": {},
   "outputs": [
    {
     "name": "stdout",
     "output_type": "stream",
     "text": [
      "255\n",
      "FF\n"
     ]
    }
   ],
   "source": [
    "n = int(input(''))\n",
    "n = '%x'%n\n",
    "print(n.upper())"
   ]
  },
  {
   "cell_type": "code",
   "execution_count": 43,
   "metadata": {},
   "outputs": [
    {
     "name": "stdout",
     "output_type": "stream",
     "text": [
      "13\n",
      "11\n"
     ]
    }
   ],
   "source": [
    "n = input()\n",
    "n_8 = '0o'+n\n",
    "print(int(n_8,8))"
   ]
  },
  {
   "cell_type": "code",
   "execution_count": 5,
   "metadata": {},
   "outputs": [
    {
     "name": "stdout",
     "output_type": "stream",
     "text": [
      "A\n",
      "65\n"
     ]
    }
   ],
   "source": [
    "a = input()\n",
    "print(ord(a))"
   ]
  },
  {
   "cell_type": "code",
   "execution_count": 8,
   "metadata": {},
   "outputs": [
    {
     "name": "stdout",
     "output_type": "stream",
     "text": [
      "65\n",
      "A\n"
     ]
    }
   ],
   "source": [
    "a = int(input())\n",
    "print(chr(a))"
   ]
  },
  {
   "cell_type": "code",
   "execution_count": 10,
   "metadata": {},
   "outputs": [
    {
     "name": "stdout",
     "output_type": "stream",
     "text": [
      "5 10\n",
      "15\n"
     ]
    }
   ],
   "source": [
    "a = input()\n",
    "n = a.split(' ')\n",
    "print(int(n[0]) + int(n[1]))"
   ]
  },
  {
   "cell_type": "code",
   "execution_count": 11,
   "metadata": {},
   "outputs": [
    {
     "name": "stdout",
     "output_type": "stream",
     "text": [
      "5\n",
      "-5\n"
     ]
    }
   ],
   "source": [
    "a = int(input())\n",
    "print(-1 * a)"
   ]
  },
  {
   "cell_type": "code",
   "execution_count": 13,
   "metadata": {},
   "outputs": [
    {
     "name": "stdout",
     "output_type": "stream",
     "text": [
      "0\n",
      "1\n"
     ]
    }
   ],
   "source": [
    "a = input()\n",
    "\n",
    "if ord(a) >= 65 or ord(a) <=90:\n",
    "    a2 = ord(a) + 1\n",
    "    print(chr(a2))\n",
    "elif ord(a) >= 97 or ord(a) <= 122:\n",
    "    a2 = ord(a) + 1\n",
    "    print(chr(a2))\n",
    "else:\n",
    "    print(a)"
   ]
  },
  {
   "cell_type": "code",
   "execution_count": 15,
   "metadata": {},
   "outputs": [
    {
     "name": "stdout",
     "output_type": "stream",
     "text": [
      "1 3\n",
      "0\n"
     ]
    }
   ],
   "source": [
    "a = input()\n",
    "n = a.split(' ')\n",
    "result = int(n[0]) / int(n[1])\n",
    "print(int(result))"
   ]
  },
  {
   "cell_type": "code",
   "execution_count": 16,
   "metadata": {},
   "outputs": [
    {
     "name": "stdout",
     "output_type": "stream",
     "text": [
      "10 3\n",
      "1\n"
     ]
    }
   ],
   "source": [
    "a = input()\n",
    "n = a.split(' ')\n",
    "result = int(n[0]) % int(n[1])\n",
    "print(result)"
   ]
  },
  {
   "cell_type": "code",
   "execution_count": 17,
   "metadata": {},
   "outputs": [
    {
     "name": "stdout",
     "output_type": "stream",
     "text": [
      "5\n",
      "6\n"
     ]
    }
   ],
   "source": [
    "a = int(input())\n",
    "print(a + 1)"
   ]
  },
  {
   "cell_type": "code",
   "execution_count": 20,
   "metadata": {},
   "outputs": [
    {
     "name": "stdout",
     "output_type": "stream",
     "text": [
      "10 3\n",
      "13\n",
      "7\n",
      "30\n",
      "3\n",
      "1\n",
      "3.333\n"
     ]
    }
   ],
   "source": [
    "a = input()\n",
    "n = a.split(\" \")\n",
    "n1 = int(n[0])\n",
    "n2 = int(n[1])\n",
    "\n",
    "print(n1 + n2)\n",
    "print(n1 - n2)\n",
    "print(n1 * n2)\n",
    "print(int(n1 / n2))\n",
    "print(n1 % n2)\n",
    "print(\"%.2f\" % (n1 / n2))"
   ]
  },
  {
   "cell_type": "code",
   "execution_count": 22,
   "metadata": {},
   "outputs": [
    {
     "name": "stdout",
     "output_type": "stream",
     "text": [
      "1 2 3\n",
      "6\n",
      "2.0\n"
     ]
    }
   ],
   "source": [
    "a = input()\n",
    "n = a.split(\" \")\n",
    "n1 = int(n[0])\n",
    "n2 = int(n[1])\n",
    "n3 = int(n[2])\n",
    "sum = n1 + n2 + n3\n",
    "\n",
    "print(sum)\n",
    "print(\"%.1f\" %(sum/3))"
   ]
  },
  {
   "cell_type": "code",
   "execution_count": 23,
   "metadata": {},
   "outputs": [
    {
     "name": "stdout",
     "output_type": "stream",
     "text": [
      "1024\n",
      "2048\n"
     ]
    }
   ],
   "source": [
    "a = int(input())\n",
    "print(a << 1)"
   ]
  },
  {
   "cell_type": "code",
   "execution_count": 26,
   "metadata": {},
   "outputs": [
    {
     "name": "stdout",
     "output_type": "stream",
     "text": [
      "1 3\n",
      "8\n"
     ]
    }
   ],
   "source": [
    "a = input()\n",
    "n = a.split(' ')\n",
    "\n",
    "print(int(n[0]) << int(n[1]))"
   ]
  },
  {
   "cell_type": "code",
   "execution_count": 36,
   "metadata": {},
   "outputs": [
    {
     "name": "stdout",
     "output_type": "stream",
     "text": [
      "3 9\n",
      "0\n"
     ]
    }
   ],
   "source": [
    "a = input()\n",
    "n = a.split(' ')\n",
    "\n",
    "if int(n[0]) > int(n[1]):\n",
    "    print(1)\n",
    "else:\n",
    "    print(0)"
   ]
  },
  {
   "cell_type": "code",
   "execution_count": 38,
   "metadata": {},
   "outputs": [
    {
     "name": "stdout",
     "output_type": "stream",
     "text": [
      "7 7\n",
      "1\n"
     ]
    }
   ],
   "source": [
    "a = input()\n",
    "n = a.split(' ')\n",
    "\n",
    "if int(n[0]) == int(n[1]):\n",
    "    print(1)\n",
    "else:\n",
    "    print(0)"
   ]
  },
  {
   "cell_type": "code",
   "execution_count": 40,
   "metadata": {},
   "outputs": [
    {
     "name": "stdout",
     "output_type": "stream",
     "text": [
      "0\n",
      "1\n"
     ]
    }
   ],
   "source": [
    "a = int(input())\n",
    "\n",
    "if a == 0:\n",
    "    print(1)\n",
    "else: \n",
    "    print(0)"
   ]
  },
  {
   "cell_type": "code",
   "execution_count": 42,
   "metadata": {},
   "outputs": [
    {
     "name": "stdout",
     "output_type": "stream",
     "text": [
      "2 0\n",
      "0\n"
     ]
    }
   ],
   "source": [
    "a = input()\n",
    "n = a.split(\" \")\n",
    "\n",
    "if int(n[0]) == 1 and int(n[1]) == 1:\n",
    "    print(1)\n",
    "else: \n",
    "    print(0)"
   ]
  },
  {
   "cell_type": "code",
   "execution_count": null,
   "metadata": {},
   "outputs": [],
   "source": [
    "a = input()\n",
    "n = a.split(\" \")\n",
    "\n",
    "if int(n[0]) == 0 and int(n[1]) == 0 :\n",
    "    print(1)\n",
    "else: \n",
    "    print(0)"
   ]
  }
 ],
 "metadata": {
  "kernelspec": {
   "display_name": "Python 3",
   "language": "python",
   "name": "python3"
  },
  "language_info": {
   "codemirror_mode": {
    "name": "ipython",
    "version": 3
   },
   "file_extension": ".py",
   "mimetype": "text/x-python",
   "name": "python",
   "nbconvert_exporter": "python",
   "pygments_lexer": "ipython3",
   "version": "3.7.6"
  }
 },
 "nbformat": 4,
 "nbformat_minor": 4
}
