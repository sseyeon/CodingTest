{
 "cells": [
  {
   "cell_type": "code",
   "execution_count": 17,
   "metadata": {},
   "outputs": [
    {
     "name": "stdout",
     "output_type": "stream",
     "text": [
      "['The', 'Curious', 'Case', 'of', 'Benjamin', 'Button', '']\n",
      "6\n",
      "['', 'Mazatneunde', 'Wae', 'Teullyeoyo']\n",
      "3\n"
     ]
    }
   ],
   "source": [
    "def solution(string):\n",
    "    try:\n",
    "        string = string.split(' ')\n",
    "        print(string)\n",
    "        if string[0] == '' or string[-1]=='':\n",
    "            string.remove('')\n",
    "        print(len(string))\n",
    "    except:\n",
    "        print(1)\n",
    "solution(\"The Curious Case of Benjamin Button \")\n",
    "solution(\" Mazatneunde Wae Teullyeoyo\")"
   ]
  },
  {
   "cell_type": "code",
   "execution_count": 35,
   "metadata": {},
   "outputs": [
    {
     "name": "stdout",
     "output_type": "stream",
     "text": [
      " \n",
      "0\n"
     ]
    }
   ],
   "source": [
    "string = input()\n",
    "string = string.split(' ')\n",
    "if string[0] == '' or string[-1]=='':\n",
    "    string = list(set(string))\n",
    "    string.remove('')\n",
    "print(len(string))"
   ]
  },
  {
   "cell_type": "code",
   "execution_count": 44,
   "metadata": {},
   "outputs": [
    {
     "name": "stdout",
     "output_type": "stream",
     "text": [
      "the teh\n",
      "2\n"
     ]
    }
   ],
   "source": [
    "string = input()\n",
    "string = string.split(' ')\n",
    "while (True):\n",
    "    if '' not in string:\n",
    "        break\n",
    "    string.remove('')\n",
    "print(len(string))"
   ]
  },
  {
   "cell_type": "code",
   "execution_count": 19,
   "metadata": {},
   "outputs": [],
   "source": [
    "b = ['','The', 'Curious', 'Case', 'of', 'Benjamin', 'Button', '']\n",
    "b.remove('')"
   ]
  },
  {
   "cell_type": "code",
   "execution_count": 20,
   "metadata": {},
   "outputs": [
    {
     "data": {
      "text/plain": [
       "['The', 'Curious', 'Case', 'of', 'Benjamin', 'Button', '']"
      ]
     },
     "execution_count": 20,
     "metadata": {},
     "output_type": "execute_result"
    }
   ],
   "source": [
    "b"
   ]
  },
  {
   "cell_type": "code",
   "execution_count": 45,
   "metadata": {},
   "outputs": [
    {
     "data": {
      "text/plain": [
       "{1, 2, 3, 4}"
      ]
     },
     "execution_count": 45,
     "metadata": {},
     "output_type": "execute_result"
    }
   ],
   "source": [
    "a = [1, 1, 2, 3, 3, 4]\n",
    "set(a)"
   ]
  },
  {
   "cell_type": "code",
   "execution_count": 46,
   "metadata": {},
   "outputs": [
    {
     "data": {
      "text/plain": [
       "[1, 2, 3, 4]"
      ]
     },
     "execution_count": 46,
     "metadata": {},
     "output_type": "execute_result"
    }
   ],
   "source": [
    "a = [1, 1, 2, 3, 3, 4]\n",
    "list(set(a))"
   ]
  },
  {
   "cell_type": "markdown",
   "metadata": {},
   "source": [
    "# 스택"
   ]
  },
  {
   "cell_type": "code",
   "execution_count": null,
   "metadata": {},
   "outputs": [],
   "source": [
    "repeat = int(input())\n",
    "while repeat > 0:\n",
    "    string = input()\n",
    "    stack = []\n",
    "    \n",
    "    for i in string:\n",
    "        if len(stack) > 1:\n",
    "            print(stack)\n",
    "            if i != stack[-1]:\n",
    "                stack.pop()\n",
    "        stack.append(i)\n",
    "        print(stack)\n",
    "        \n",
    "    \n",
    "    if (len(stack) == 0):\n",
    "        print('YES')\n",
    "    else:\n",
    "        print('NO')\n",
    "    repeat -=1"
   ]
  },
  {
   "cell_type": "code",
   "execution_count": null,
   "metadata": {},
   "outputs": [],
   "source": []
  }
 ],
 "metadata": {
  "kernelspec": {
   "display_name": "Python 3",
   "language": "python",
   "name": "python3"
  },
  "language_info": {
   "codemirror_mode": {
    "name": "ipython",
    "version": 3
   },
   "file_extension": ".py",
   "mimetype": "text/x-python",
   "name": "python",
   "nbconvert_exporter": "python",
   "pygments_lexer": "ipython3",
   "version": "3.7.6"
  }
 },
 "nbformat": 4,
 "nbformat_minor": 4
}
