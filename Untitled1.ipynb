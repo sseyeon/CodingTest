{
 "cells": [
  {
   "cell_type": "code",
   "execution_count": 17,
   "metadata": {},
   "outputs": [
    {
     "data": {
      "text/plain": [
       "'THU'"
      ]
     },
     "execution_count": 17,
     "metadata": {},
     "output_type": "execute_result"
    }
   ],
   "source": [
    "def solution(a, b):\n",
    "    result = 0\n",
    "    dic = {2:'SUN', 3:'MON', 4:'TUE', 5:'WED', 6:'THU', 0:'FRI', 1:'SAT'}\n",
    "\n",
    "    b -=1\n",
    "    if a == 1:\n",
    "        result += b\n",
    "    elif a == 2:\n",
    "        result = 31 + b   \n",
    "    else:\n",
    "        result = 31 + 29\n",
    "        a -= 2\n",
    "        \n",
    "        q = int(a/2)\n",
    "        r = a%2\n",
    "        \n",
    "        result += q * 31\n",
    "        result += r * 30\n",
    "        \n",
    "    return dic.get(result%7)\n",
    "    \n",
    "solution(3, 1)"
   ]
  },
  {
   "cell_type": "code",
   "execution_count": 52,
   "metadata": {},
   "outputs": [
    {
     "name": "stdout",
     "output_type": "stream",
     "text": [
      "1\n",
      "2\n",
      "3\n"
     ]
    }
   ],
   "source": [
    "# 3월\n",
    "\n",
    "for i in range(1, 4, 2):\n",
    "    print(i)\n",
    "    for j in range(i+1, 4, 2):\n",
    "        print(j)\n",
    "        break"
   ]
  },
  {
   "cell_type": "code",
   "execution_count": 55,
   "metadata": {},
   "outputs": [
    {
     "name": "stdout",
     "output_type": "stream",
     "text": [
      "1\n",
      "2\n",
      "3\n",
      "4\n",
      "5\n",
      "6\n",
      "7\n",
      "8\n"
     ]
    }
   ],
   "source": [
    "# 8월\n",
    "\n",
    "for i in range(1, 9, 2):\n",
    "    print(i)\n",
    "    \n",
    "    for j in range(i+1, 9, 2):\n",
    "        print(j)\n",
    "        break"
   ]
  },
  {
   "cell_type": "code",
   "execution_count": 95,
   "metadata": {},
   "outputs": [
    {
     "name": "stdout",
     "output_type": "stream",
     "text": [
      "1\n",
      "2\n",
      "3\n",
      "4\n",
      "5\n",
      "6\n",
      "7\n",
      "8\n"
     ]
    }
   ],
   "source": [
    "# 3월\n",
    "\n",
    "for i in range(1, 9, 2):\n",
    "    print(i)\n",
    "    for j in range(i+1,9, 2):\n",
    "        print(j)\n",
    "        break"
   ]
  },
  {
   "cell_type": "code",
   "execution_count": 103,
   "metadata": {},
   "outputs": [
    {
     "name": "stdout",
     "output_type": "stream",
     "text": [
      "287\n"
     ]
    },
    {
     "data": {
      "text/plain": [
       "'THU'"
      ]
     },
     "execution_count": 103,
     "metadata": {},
     "output_type": "execute_result"
    }
   ],
   "source": [
    "def solution(a, b):\n",
    "    result = 0\n",
    "    dic = {3:'SUN', 4:'MON', 5:'TUE', 6:'WED', 0:'THU', 1:'FRI', 2:'SAT'}\n",
    "\n",
    "    if a != 1:\n",
    "        for i in range(1, a, 2):\n",
    "            if i < 8:\n",
    "                result += 31\n",
    "            else:\n",
    "                result += 30\n",
    "            for j in range(i+1, a, 2):\n",
    "                if j == 2:\n",
    "                    result += 29\n",
    "                elif j < 8:\n",
    "                    result += 30\n",
    "                else: \n",
    "                    result += 31\n",
    "                break\n",
    "    result += b\n",
    "    print(result)\n",
    "    return dic.get(result%7)\n",
    "    \n",
    "solution(10,13)"
   ]
  },
  {
   "cell_type": "code",
   "execution_count": 15,
   "metadata": {},
   "outputs": [
    {
     "name": "stdout",
     "output_type": "stream",
     "text": [
      "0\n",
      "잃명단 [2, 4]\n",
      "빌명단 [1, 3, 5]\n",
      "잃 2\n",
      "빌 1\n",
      "1\n",
      "잃명단 [4]\n",
      "빌명단 [3, 5]\n",
      "잃 4\n",
      "빌 3\n"
     ]
    },
    {
     "data": {
      "text/plain": [
       "5"
      ]
     },
     "execution_count": 15,
     "metadata": {},
     "output_type": "execute_result"
    }
   ],
   "source": [
    "def solution(n, lost, reserve):\n",
    "    answer = 0\n",
    "    \n",
    "    # 일단 들을 수 있는 애들 \n",
    "    answer = n - len(lost)\n",
    "    \n",
    "    # who can lent\n",
    "    # 체육복 수 안에서만 빌릴 수 있음\n",
    "    # 빌리면 reserve에서 빼야함\n",
    "    # 이중 for?\n",
    "    # 맨처음부터 한 치수 작은 애한테 빌리면 최대 인원 가능 \n",
    "    for i in range(0,len(lost)):\n",
    "        if i <= len(lost):\n",
    "            print(i)\n",
    "            print('잃명단', lost)\n",
    "            print('빌명단', reserve)\n",
    "            if (lost[0] - reserve[0] == 1):\n",
    "                print('잃', lost[0])\n",
    "                print('빌', reserve[0])\n",
    "                answer+=1\n",
    "                lost.remove(lost[0])\n",
    "                reserve.remove(reserve[0])\n",
    "\n",
    "            elif (reserve[0] - lost[0] == 1):\n",
    "                answer+=1\n",
    "                lost.remove(lost[0])\n",
    "                reserve.remove(reserve[0])\n",
    "\n",
    "        else: break\n",
    "    \n",
    "    return answer\n",
    "\n",
    "solution(5, [2,4], [1,3,5])"
   ]
  },
  {
   "cell_type": "code",
   "execution_count": 16,
   "metadata": {},
   "outputs": [
    {
     "name": "stdout",
     "output_type": "stream",
     "text": [
      "0\n",
      "잃명단 [2, 4]\n",
      "빌명단 [3]\n",
      "1\n",
      "잃명단 [4]\n",
      "빌명단 []\n"
     ]
    },
    {
     "ename": "IndexError",
     "evalue": "list index out of range",
     "output_type": "error",
     "traceback": [
      "\u001b[1;31m---------------------------------------------------------------------------\u001b[0m",
      "\u001b[1;31mIndexError\u001b[0m                                Traceback (most recent call last)",
      "\u001b[1;32m<ipython-input-16-07505814596a>\u001b[0m in \u001b[0;36m<module>\u001b[1;34m\u001b[0m\n\u001b[1;32m----> 1\u001b[1;33m \u001b[0mprint\u001b[0m\u001b[1;33m(\u001b[0m\u001b[0msolution\u001b[0m\u001b[1;33m(\u001b[0m\u001b[1;36m5\u001b[0m\u001b[1;33m,\u001b[0m \u001b[1;33m[\u001b[0m\u001b[1;36m2\u001b[0m\u001b[1;33m,\u001b[0m\u001b[1;36m4\u001b[0m\u001b[1;33m]\u001b[0m\u001b[1;33m,\u001b[0m \u001b[1;33m[\u001b[0m\u001b[1;36m3\u001b[0m\u001b[1;33m]\u001b[0m\u001b[1;33m)\u001b[0m\u001b[1;33m)\u001b[0m\u001b[1;33m\u001b[0m\u001b[1;33m\u001b[0m\u001b[0m\n\u001b[0m",
      "\u001b[1;32m<ipython-input-15-75957d1d3390>\u001b[0m in \u001b[0;36msolution\u001b[1;34m(n, lost, reserve)\u001b[0m\n\u001b[0;32m     15\u001b[0m             \u001b[0mprint\u001b[0m\u001b[1;33m(\u001b[0m\u001b[1;34m'잃명단'\u001b[0m\u001b[1;33m,\u001b[0m \u001b[0mlost\u001b[0m\u001b[1;33m)\u001b[0m\u001b[1;33m\u001b[0m\u001b[1;33m\u001b[0m\u001b[0m\n\u001b[0;32m     16\u001b[0m             \u001b[0mprint\u001b[0m\u001b[1;33m(\u001b[0m\u001b[1;34m'빌명단'\u001b[0m\u001b[1;33m,\u001b[0m \u001b[0mreserve\u001b[0m\u001b[1;33m)\u001b[0m\u001b[1;33m\u001b[0m\u001b[1;33m\u001b[0m\u001b[0m\n\u001b[1;32m---> 17\u001b[1;33m             \u001b[1;32mif\u001b[0m \u001b[1;33m(\u001b[0m\u001b[0mlost\u001b[0m\u001b[1;33m[\u001b[0m\u001b[1;36m0\u001b[0m\u001b[1;33m]\u001b[0m \u001b[1;33m-\u001b[0m \u001b[0mreserve\u001b[0m\u001b[1;33m[\u001b[0m\u001b[1;36m0\u001b[0m\u001b[1;33m]\u001b[0m \u001b[1;33m==\u001b[0m \u001b[1;36m1\u001b[0m\u001b[1;33m)\u001b[0m\u001b[1;33m:\u001b[0m\u001b[1;33m\u001b[0m\u001b[1;33m\u001b[0m\u001b[0m\n\u001b[0m\u001b[0;32m     18\u001b[0m                 \u001b[0mprint\u001b[0m\u001b[1;33m(\u001b[0m\u001b[1;34m'잃'\u001b[0m\u001b[1;33m,\u001b[0m \u001b[0mlost\u001b[0m\u001b[1;33m[\u001b[0m\u001b[1;36m0\u001b[0m\u001b[1;33m]\u001b[0m\u001b[1;33m)\u001b[0m\u001b[1;33m\u001b[0m\u001b[1;33m\u001b[0m\u001b[0m\n\u001b[0;32m     19\u001b[0m                 \u001b[0mprint\u001b[0m\u001b[1;33m(\u001b[0m\u001b[1;34m'빌'\u001b[0m\u001b[1;33m,\u001b[0m \u001b[0mreserve\u001b[0m\u001b[1;33m[\u001b[0m\u001b[1;36m0\u001b[0m\u001b[1;33m]\u001b[0m\u001b[1;33m)\u001b[0m\u001b[1;33m\u001b[0m\u001b[1;33m\u001b[0m\u001b[0m\n",
      "\u001b[1;31mIndexError\u001b[0m: list index out of range"
     ]
    }
   ],
   "source": [
    "print(solution(5, [2,4], [3]))"
   ]
  },
  {
   "cell_type": "code",
   "execution_count": 51,
   "metadata": {},
   "outputs": [
    {
     "name": "stdout",
     "output_type": "stream",
     "text": [
      "잃명단 [1, 3]\n",
      "빌명단 [2, 4]\n",
      "  > 답 3\n",
      "잃명단gn [4]\n",
      "빌명단gn [1, 5]\n",
      "[4]\n"
     ]
    },
    {
     "data": {
      "text/plain": [
       "4"
      ]
     },
     "execution_count": 51,
     "metadata": {},
     "output_type": "execute_result"
    }
   ],
   "source": [
    "def solution(n, lost, reserve):\n",
    "    answer = 0\n",
    "    \n",
    "    # 일단 들을 수 있는 애들 \n",
    "    answer = n - len(lost)\n",
    "    tmpLost = lost\n",
    "    # who can lent\n",
    "   \n",
    "    if lost[0]-1 in reserve:\n",
    "        answer+=1\n",
    "        lost.remove(lost[0])\n",
    "        reserve.remove(lost[0]-1)\n",
    "        print('잃명단gn', lost)\n",
    "        print('빌명단gn', reserve)\n",
    "        print(tmpLost)\n",
    "\n",
    "    elif lost[0]+1 in reserve:\n",
    "        print('잃명단', lost)\n",
    "        print('빌명단', reserve)\n",
    "       \n",
    "        answer+=1\n",
    "        lost.remove(lost[0])\n",
    "        reserve.remove(lost[0]+1)\n",
    "\n",
    "    return answer\n",
    "# print('>답', solution(5, [2,4], [3]))\n",
    "# print('>답', solution(3, [3], [1]))\n",
    "print('  > 답', solution(4, [1,3], [2,4]))\n",
    "solution(5, [2,4], [1,3,5])"
   ]
  },
  {
   "cell_type": "code",
   "execution_count": null,
   "metadata": {},
   "outputs": [],
   "source": []
  }
 ],
 "metadata": {
  "kernelspec": {
   "display_name": "Python 3",
   "language": "python",
   "name": "python3"
  },
  "language_info": {
   "codemirror_mode": {
    "name": "ipython",
    "version": 3
   },
   "file_extension": ".py",
   "mimetype": "text/x-python",
   "name": "python",
   "nbconvert_exporter": "python",
   "pygments_lexer": "ipython3",
   "version": "3.7.6"
  }
 },
 "nbformat": 4,
 "nbformat_minor": 4
}
