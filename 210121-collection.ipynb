{
 "cells": [
  {
   "cell_type": "code",
   "execution_count": 11,
   "metadata": {},
   "outputs": [
    {
     "name": "stdout",
     "output_type": "stream",
     "text": [
      "Counter({'aa': 2, 'cc': 1, 'dd': 1, 'bb': 1, 'ee': 1})\n",
      "<class 'collections.Counter'>\n"
     ]
    }
   ],
   "source": [
    "import collections\n",
    "lst = ['aa', 'cc', 'dd', 'aa', 'bb', 'ee']\n",
    "print(collections.Counter(lst))\n",
    "print(type(collections.Counter(lst)))\n"
   ]
  },
  {
   "cell_type": "code",
   "execution_count": 12,
   "metadata": {},
   "outputs": [],
   "source": [
    "container = collections.Counter()\n",
    "\n",
    "container.update(\"aabcdeffgg\")\n",
    "\n"
   ]
  },
  {
   "cell_type": "code",
   "execution_count": 13,
   "metadata": {},
   "outputs": [
    {
     "name": "stdout",
     "output_type": "stream",
     "text": [
      "Counter({'a': 2, 'f': 2, 'g': 2, 'b': 1, 'c': 1, 'd': 1, 'e': 1})\n"
     ]
    }
   ],
   "source": [
    "print(container)"
   ]
  },
  {
   "cell_type": "code",
   "execution_count": 19,
   "metadata": {},
   "outputs": [
    {
     "data": {
      "text/plain": [
       "2"
      ]
     },
     "execution_count": 19,
     "metadata": {},
     "output_type": "execute_result"
    }
   ],
   "source": [
    "container.most_common(1)[0][1]"
   ]
  },
  {
   "cell_type": "code",
   "execution_count": 25,
   "metadata": {},
   "outputs": [
    {
     "name": "stdout",
     "output_type": "stream",
     "text": [
      "False\n",
      "False\n",
      "False\n",
      "False\n",
      "False\n",
      "-3\n"
     ]
    },
    {
     "data": {
      "text/plain": [
       "'LRLLLR'"
      ]
     },
     "execution_count": 25,
     "metadata": {},
     "output_type": "execute_result"
    }
   ],
   "source": [
    "def solution(numbers, hand):\n",
    "    answer = ''\n",
    "    L_point=''\n",
    "    R_point=''\n",
    "    \n",
    "    \n",
    "    for i in numbers:\n",
    "        i += 1\n",
    "        if (i % 3 == 2):\n",
    "            L_point=i\n",
    "            answer+='L'\n",
    "        elif (i % 3 == 1):\n",
    "            R_point=i\n",
    "            answer+='R'\n",
    "#         else:\n",
    "#             answer+='o'\n",
    "            \n",
    "        else:\n",
    "            print(abs(L_point-i)-(abs(R_point)-i)==0)\n",
    "#             if ((abs(L_point-i)-(abs(R_point)-i))==0):\n",
    "#                 tmp = hand[0]\n",
    "#                 if (tmp=='r'):\n",
    "#                     R_point=i\n",
    "#                     answer+='R'\n",
    "#                 else:\n",
    "#                     L_point=i\n",
    "#                     answer+='L'\n",
    "#             else:\n",
    "#                 answer+='o'\n",
    "            #     R_point=i\n",
    "            #     answer+='R'\n",
    "            # elif (abs(L_point-i) < abs(R_point-i)):\n",
    "            #     L_point=i\n",
    "            #     answer+='L'\n",
    "            # else:\n",
    "            #     answer+='o'\n",
    "            #     tmp = hand[:1].upper()\n",
    "            #     if (tmp=='R'):\n",
    "            #         R_point=i\n",
    "            #         answer+='R'\n",
    "            #     else:\n",
    "            #         L_point=i\n",
    "            #         answer+='L'\n",
    "    print(abs(L_point-i)-(abs(R_point)-i))\n",
    "    return answer\n",
    "\n",
    "solution([1, 3, 4, 5, 8, 2, 1, 4, 5, 9, 5], \"right\")"
   ]
  },
  {
   "cell_type": "code",
   "execution_count": 26,
   "metadata": {},
   "outputs": [
    {
     "name": "stdout",
     "output_type": "stream",
     "text": [
      "-3\n"
     ]
    },
    {
     "data": {
      "text/plain": [
       "'LRLoooLLoRo'"
      ]
     },
     "execution_count": 26,
     "metadata": {},
     "output_type": "execute_result"
    }
   ],
   "source": [
    "def solution(numbers, hand):\n",
    "    answer = ''\n",
    "    L_point=''\n",
    "    R_point=''\n",
    "    \n",
    "    \n",
    "    for i in numbers:\n",
    "        i += 1\n",
    "        if (i % 3 == 2):\n",
    "            L_point=i\n",
    "            answer+='L'\n",
    "        elif (i % 3 == 1):\n",
    "            R_point=i\n",
    "            answer+='R'\n",
    "            \n",
    "        else:\n",
    "            if ((abs(L_point-i)-(abs(R_point)-i))==0):\n",
    "                tmp = hand[0]\n",
    "                if (tmp=='r'):\n",
    "                    R_point=i\n",
    "                    answer+='R'\n",
    "                else:\n",
    "                    L_point=i\n",
    "                    answer+='L'\n",
    "            else:\n",
    "                answer+='o'\n",
    "            #     R_point=i\n",
    "            #     answer+='R'\n",
    "            # elif (abs(L_point-i) < abs(R_point-i)):\n",
    "            #     L_point=i\n",
    "            #     answer+='L'\n",
    "            # else:\n",
    "            #     answer+='o'\n",
    "            #     tmp = hand[:1].upper()\n",
    "            #     if (tmp=='R'):\n",
    "            #         R_point=i\n",
    "            #         answer+='R'\n",
    "            #     else:\n",
    "            #         L_point=i\n",
    "            #         answer+='L'\n",
    "    print(abs(L_point-i)-(abs(R_point)-i))\n",
    "    return answer\n",
    "solution([1, 3, 4, 5, 8, 2, 1, 4, 5, 9, 5], \"right\")"
   ]
  },
  {
   "cell_type": "code",
   "execution_count": 28,
   "metadata": {},
   "outputs": [
    {
     "name": "stdout",
     "output_type": "stream",
     "text": [
      "2 1\n",
      "12 0\n"
     ]
    },
    {
     "data": {
      "text/plain": [
       "'12'"
      ]
     },
     "execution_count": 28,
     "metadata": {},
     "output_type": "execute_result"
    }
   ],
   "source": [
    "\n",
    "def solution(n):\n",
    "    answer = ''\n",
    "\n",
    "    while n > 0:\n",
    "        n-=1\n",
    "        answer = '124'[n%3] + answer\n",
    "        print(answer, n%3)\n",
    "        n //= 3\n",
    "\n",
    "    return answer\n",
    "\n",
    "solution(5)"
   ]
  },
  {
   "cell_type": "code",
   "execution_count": null,
   "metadata": {},
   "outputs": [],
   "source": []
  }
 ],
 "metadata": {
  "kernelspec": {
   "display_name": "Python 3",
   "language": "python",
   "name": "python3"
  },
  "language_info": {
   "codemirror_mode": {
    "name": "ipython",
    "version": 3
   },
   "file_extension": ".py",
   "mimetype": "text/x-python",
   "name": "python",
   "nbconvert_exporter": "python",
   "pygments_lexer": "ipython3",
   "version": "3.7.6"
  }
 },
 "nbformat": 4,
 "nbformat_minor": 4
}
